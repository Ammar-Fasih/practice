{
  "cells": [
    {
      "cell_type": "code",
      "execution_count": 23,
      "metadata": {
        "id": "igMyGnjE9hEp"
      },
      "outputs": [],
      "source": [
        "import csv\n",
        "\n",
        "import numpy as np\n",
        "import tensorflow as tf\n",
        "from sklearn.model_selection import train_test_split\n",
        "\n",
        "RANDOM_SEED = 42"
      ]
    },
    {
      "cell_type": "markdown",
      "metadata": {
        "id": "t2HDvhIu9hEr"
      },
      "source": [
        "# Specify each path"
      ]
    },
    {
      "cell_type": "code",
      "execution_count": 24,
      "metadata": {
        "id": "9NvZP2Zn9hEy"
      },
      "outputs": [],
      "source": [
        "dataset = 'model/keypoint_classifier/keypoint.csv'\n",
        "model_save_path = 'model/keypoint_classifier/keypoint_classifier.hdf5'\n",
        "tflite_save_path = 'model/keypoint_classifier/keypoint_classifier.tflite'"
      ]
    },
    {
      "cell_type": "markdown",
      "metadata": {
        "id": "s5oMH7x19hEz"
      },
      "source": [
        "# Set number of classes"
      ]
    },
    {
      "cell_type": "code",
      "execution_count": 25,
      "metadata": {
        "id": "du4kodXL9hEz"
      },
      "outputs": [],
      "source": [
        "NUM_CLASSES = 2"
      ]
    },
    {
      "cell_type": "markdown",
      "metadata": {
        "id": "XjnL0uso9hEz"
      },
      "source": [
        "# Dataset reading"
      ]
    },
    {
      "cell_type": "code",
      "execution_count": 26,
      "metadata": {
        "id": "QT5ZqtEz9hE0"
      },
      "outputs": [],
      "source": [
        "X_dataset = np.loadtxt(dataset, delimiter=',', dtype='float32', usecols=list(range(1, (42 * 2) + 1)))"
      ]
    },
    {
      "cell_type": "code",
      "execution_count": 27,
      "metadata": {
        "id": "QmoKFsp49hE0"
      },
      "outputs": [],
      "source": [
        "y_dataset = np.loadtxt(dataset, delimiter=',', dtype='int32', usecols=(0))"
      ]
    },
    {
      "cell_type": "code",
      "execution_count": 28,
      "metadata": {
        "id": "xQU7JTZ_9hE0"
      },
      "outputs": [],
      "source": [
        "X_train, X_test, y_train, y_test = train_test_split(X_dataset, y_dataset, train_size=0.8, random_state=RANDOM_SEED)"
      ]
    },
    {
      "cell_type": "markdown",
      "metadata": {
        "id": "mxK_lETT9hE0"
      },
      "source": [
        "# Model building"
      ]
    },
    {
      "cell_type": "code",
      "execution_count": 29,
      "metadata": {
        "id": "vHBmUf1t9hE1"
      },
      "outputs": [],
      "source": [
        "# model = tf.keras.models.Sequential([\n",
        "#     tf.keras.layers.Input((478 * 2, )),\n",
        "#     tf.keras.layers.Dense(64, activation='selu', kernel_initializer='lecun_normal'),\n",
        "#     tf.keras.layers.Dense(32, activation='selu', kernel_initializer='lecun_normal'),\n",
        "#     tf.keras.layers.Dense(16, activation='selu', kernel_initializer='lecun_normal'),\n",
        "#     tf.keras.layers.Dropout(0.5),\n",
        "#     tf.keras.layers.Dense(NUM_CLASSES, activation='softmax')\n",
        "# ])\n",
        "\n",
        "model = tf.keras.models.Sequential([\n",
        "    tf.keras.layers.Input((42 * 2, )),\n",
        "    tf.keras.layers.Dense(20, activation='elu'),\n",
        "    tf.keras.layers.Dropout(0.5),\n",
        "    tf.keras.layers.Dense(10, activation='elu'),\n",
        "    tf.keras.layers.Dense(NUM_CLASSES, activation='softmax')\n",
        "])"
      ]
    },
    {
      "cell_type": "code",
      "execution_count": 30,
      "metadata": {
        "colab": {
          "base_uri": "https://localhost:8080/"
        },
        "id": "ypqky9tc9hE1",
        "outputId": "5db082bb-30e3-4110-bf63-a1ee777ecd46"
      },
      "outputs": [
        {
          "name": "stdout",
          "output_type": "stream",
          "text": [
            "Model: \"sequential_1\"\n",
            "_________________________________________________________________\n",
            " Layer (type)                Output Shape              Param #   \n",
            "=================================================================\n",
            " dense_3 (Dense)             (None, 20)                1700      \n",
            "                                                                 \n",
            " dropout_1 (Dropout)         (None, 20)                0         \n",
            "                                                                 \n",
            " dense_4 (Dense)             (None, 10)                210       \n",
            "                                                                 \n",
            " dense_5 (Dense)             (None, 2)                 22        \n",
            "                                                                 \n",
            "=================================================================\n",
            "Total params: 1,932\n",
            "Trainable params: 1,932\n",
            "Non-trainable params: 0\n",
            "_________________________________________________________________\n"
          ]
        }
      ],
      "source": [
        "model.summary()  # tf.keras.utils.plot_model(model, show_shapes=True)"
      ]
    },
    {
      "cell_type": "code",
      "execution_count": 31,
      "metadata": {
        "id": "MbMjOflQ9hE1"
      },
      "outputs": [],
      "source": [
        "# Model checkpoint callback\n",
        "cp_callback = tf.keras.callbacks.ModelCheckpoint(\n",
        "    model_save_path, verbose=1, save_weights_only=False)\n",
        "# Callback for early stopping\n",
        "es_callback = tf.keras.callbacks.EarlyStopping(patience=20, verbose=1)"
      ]
    },
    {
      "cell_type": "code",
      "execution_count": 32,
      "metadata": {
        "id": "c3Dac0M_9hE2"
      },
      "outputs": [],
      "source": [
        "# Model compilation\n",
        "opt = tf.keras.optimizers.Adam(learning_rate=0.001)\n",
        "model.compile(\n",
        "    optimizer=opt,\n",
        "    loss='sparse_categorical_crossentropy',\n",
        "    metrics=['accuracy']\n",
        ")"
      ]
    },
    {
      "cell_type": "markdown",
      "metadata": {
        "id": "7XI0j1Iu9hE2"
      },
      "source": [
        "# Model training"
      ]
    },
    {
      "cell_type": "code",
      "execution_count": 33,
      "metadata": {
        "colab": {
          "base_uri": "https://localhost:8080/"
        },
        "id": "WirBl-JE9hE3",
        "outputId": "71b30ca2-8294-4d9d-8aa2-800d90d399de",
        "scrolled": true
      },
      "outputs": [
        {
          "name": "stdout",
          "output_type": "stream",
          "text": [
            "Epoch 1/1000\n",
            "21/31 [===================>..........] - ETA: 0s - loss: 0.7174 - accuracy: 0.5097 \n",
            "Epoch 1: saving model to model/keypoint_classifier\\keypoint_classifier.hdf5\n",
            "31/31 [==============================] - 2s 35ms/step - loss: 0.7066 - accuracy: 0.5310 - val_loss: 0.6573 - val_accuracy: 0.7092\n",
            "Epoch 2/1000\n",
            "21/31 [===================>..........] - ETA: 0s - loss: 0.6592 - accuracy: 0.5867\n",
            "Epoch 2: saving model to model/keypoint_classifier\\keypoint_classifier.hdf5\n",
            "31/31 [==============================] - 0s 6ms/step - loss: 0.6502 - accuracy: 0.6068 - val_loss: 0.6160 - val_accuracy: 0.4949\n",
            "Epoch 3/1000\n",
            "19/31 [=================>............] - ETA: 0s - loss: 0.6117 - accuracy: 0.6468\n",
            "Epoch 3: saving model to model/keypoint_classifier\\keypoint_classifier.hdf5\n",
            "31/31 [==============================] - 0s 6ms/step - loss: 0.6038 - accuracy: 0.6775 - val_loss: 0.5601 - val_accuracy: 0.8000\n",
            "Epoch 4/1000\n",
            "19/31 [=================>............] - ETA: 0s - loss: 0.5680 - accuracy: 0.7414\n",
            "Epoch 4: saving model to model/keypoint_classifier\\keypoint_classifier.hdf5\n",
            "31/31 [==============================] - 0s 5ms/step - loss: 0.5655 - accuracy: 0.7408 - val_loss: 0.5175 - val_accuracy: 0.7980\n",
            "Epoch 5/1000\n",
            "20/31 [==================>...........] - ETA: 0s - loss: 0.5246 - accuracy: 0.7676\n",
            "Epoch 5: saving model to model/keypoint_classifier\\keypoint_classifier.hdf5\n",
            "31/31 [==============================] - 0s 6ms/step - loss: 0.5216 - accuracy: 0.7675 - val_loss: 0.4838 - val_accuracy: 0.7908\n",
            "Epoch 6/1000\n",
            "21/31 [===================>..........] - ETA: 0s - loss: 0.4845 - accuracy: 0.7876\n",
            "Epoch 6: saving model to model/keypoint_classifier\\keypoint_classifier.hdf5\n",
            "31/31 [==============================] - 0s 5ms/step - loss: 0.4864 - accuracy: 0.7885 - val_loss: 0.4405 - val_accuracy: 0.8337\n",
            "Epoch 7/1000\n",
            "23/31 [=====================>........] - ETA: 0s - loss: 0.4605 - accuracy: 0.8020\n",
            "Epoch 7: saving model to model/keypoint_classifier\\keypoint_classifier.hdf5\n",
            "31/31 [==============================] - 0s 6ms/step - loss: 0.4580 - accuracy: 0.8073 - val_loss: 0.4133 - val_accuracy: 0.8408\n",
            "Epoch 8/1000\n",
            "24/31 [======================>.......] - ETA: 0s - loss: 0.4297 - accuracy: 0.8320\n",
            "Epoch 8: saving model to model/keypoint_classifier\\keypoint_classifier.hdf5\n",
            "31/31 [==============================] - 0s 5ms/step - loss: 0.4296 - accuracy: 0.8301 - val_loss: 0.3847 - val_accuracy: 0.8592\n",
            "Epoch 9/1000\n",
            "18/31 [================>.............] - ETA: 0s - loss: 0.4161 - accuracy: 0.8290\n",
            "Epoch 9: saving model to model/keypoint_classifier\\keypoint_classifier.hdf5\n",
            "31/31 [==============================] - 0s 6ms/step - loss: 0.4139 - accuracy: 0.8334 - val_loss: 0.3755 - val_accuracy: 0.8480\n",
            "Epoch 10/1000\n",
            "22/31 [====================>.........] - ETA: 0s - loss: 0.4012 - accuracy: 0.8423\n",
            "Epoch 10: saving model to model/keypoint_classifier\\keypoint_classifier.hdf5\n",
            "31/31 [==============================] - 0s 5ms/step - loss: 0.3997 - accuracy: 0.8413 - val_loss: 0.3606 - val_accuracy: 0.8643\n",
            "Epoch 11/1000\n",
            "21/31 [===================>..........] - ETA: 0s - loss: 0.3871 - accuracy: 0.8415\n",
            "Epoch 11: saving model to model/keypoint_classifier\\keypoint_classifier.hdf5\n",
            "31/31 [==============================] - 0s 6ms/step - loss: 0.3928 - accuracy: 0.8410 - val_loss: 0.3515 - val_accuracy: 0.8663\n",
            "Epoch 12/1000\n",
            "20/31 [==================>...........] - ETA: 0s - loss: 0.3888 - accuracy: 0.8438\n",
            "Epoch 12: saving model to model/keypoint_classifier\\keypoint_classifier.hdf5\n",
            "31/31 [==============================] - 0s 6ms/step - loss: 0.3789 - accuracy: 0.8502 - val_loss: 0.3395 - val_accuracy: 0.8786\n",
            "Epoch 13/1000\n",
            "22/31 [====================>.........] - ETA: 0s - loss: 0.3742 - accuracy: 0.8438\n",
            "Epoch 13: saving model to model/keypoint_classifier\\keypoint_classifier.hdf5\n",
            "31/31 [==============================] - 0s 6ms/step - loss: 0.3666 - accuracy: 0.8512 - val_loss: 0.3301 - val_accuracy: 0.8755\n",
            "Epoch 14/1000\n",
            "22/31 [====================>.........] - ETA: 0s - loss: 0.3491 - accuracy: 0.8565\n",
            "Epoch 14: saving model to model/keypoint_classifier\\keypoint_classifier.hdf5\n",
            "31/31 [==============================] - 0s 6ms/step - loss: 0.3529 - accuracy: 0.8556 - val_loss: 0.3172 - val_accuracy: 0.8847\n",
            "Epoch 15/1000\n",
            "20/31 [==================>...........] - ETA: 0s - loss: 0.3433 - accuracy: 0.8680\n",
            "Epoch 15: saving model to model/keypoint_classifier\\keypoint_classifier.hdf5\n",
            "31/31 [==============================] - 0s 6ms/step - loss: 0.3413 - accuracy: 0.8655 - val_loss: 0.3062 - val_accuracy: 0.8878\n",
            "Epoch 16/1000\n",
            "21/31 [===================>..........] - ETA: 0s - loss: 0.3386 - accuracy: 0.8612\n",
            "Epoch 16: saving model to model/keypoint_classifier\\keypoint_classifier.hdf5\n",
            "31/31 [==============================] - 0s 6ms/step - loss: 0.3287 - accuracy: 0.8643 - val_loss: 0.2927 - val_accuracy: 0.8939\n",
            "Epoch 17/1000\n",
            "20/31 [==================>...........] - ETA: 0s - loss: 0.3235 - accuracy: 0.8695\n",
            "Epoch 17: saving model to model/keypoint_classifier\\keypoint_classifier.hdf5\n",
            "31/31 [==============================] - 0s 6ms/step - loss: 0.3224 - accuracy: 0.8727 - val_loss: 0.2736 - val_accuracy: 0.8949\n",
            "Epoch 18/1000\n",
            "20/31 [==================>...........] - ETA: 0s - loss: 0.3068 - accuracy: 0.8742\n",
            "Epoch 18: saving model to model/keypoint_classifier\\keypoint_classifier.hdf5\n",
            "31/31 [==============================] - 0s 6ms/step - loss: 0.3033 - accuracy: 0.8778 - val_loss: 0.2652 - val_accuracy: 0.9051\n",
            "Epoch 19/1000\n",
            "19/31 [=================>............] - ETA: 0s - loss: 0.2929 - accuracy: 0.8836\n",
            "Epoch 19: saving model to model/keypoint_classifier\\keypoint_classifier.hdf5\n",
            "31/31 [==============================] - 0s 6ms/step - loss: 0.2913 - accuracy: 0.8836 - val_loss: 0.2388 - val_accuracy: 0.9092\n",
            "Epoch 20/1000\n",
            "20/31 [==================>...........] - ETA: 0s - loss: 0.2821 - accuracy: 0.8953\n",
            "Epoch 20: saving model to model/keypoint_classifier\\keypoint_classifier.hdf5\n",
            "31/31 [==============================] - 0s 6ms/step - loss: 0.2828 - accuracy: 0.8908 - val_loss: 0.2272 - val_accuracy: 0.9000\n",
            "Epoch 21/1000\n",
            "21/31 [===================>..........] - ETA: 0s - loss: 0.2696 - accuracy: 0.8943\n",
            "Epoch 21: saving model to model/keypoint_classifier\\keypoint_classifier.hdf5\n",
            "31/31 [==============================] - 0s 6ms/step - loss: 0.2690 - accuracy: 0.8931 - val_loss: 0.2051 - val_accuracy: 0.9143\n",
            "Epoch 22/1000\n",
            "21/31 [===================>..........] - ETA: 0s - loss: 0.2518 - accuracy: 0.9014\n",
            "Epoch 22: saving model to model/keypoint_classifier\\keypoint_classifier.hdf5\n",
            "31/31 [==============================] - 0s 5ms/step - loss: 0.2482 - accuracy: 0.9030 - val_loss: 0.1959 - val_accuracy: 0.9245\n",
            "Epoch 23/1000\n",
            "20/31 [==================>...........] - ETA: 0s - loss: 0.2381 - accuracy: 0.9113\n",
            "Epoch 23: saving model to model/keypoint_classifier\\keypoint_classifier.hdf5\n",
            "31/31 [==============================] - 0s 6ms/step - loss: 0.2415 - accuracy: 0.9074 - val_loss: 0.1741 - val_accuracy: 0.9378\n",
            "Epoch 24/1000\n",
            "22/31 [====================>.........] - ETA: 0s - loss: 0.2332 - accuracy: 0.9109\n",
            "Epoch 24: saving model to model/keypoint_classifier\\keypoint_classifier.hdf5\n",
            "31/31 [==============================] - 0s 6ms/step - loss: 0.2275 - accuracy: 0.9135 - val_loss: 0.1633 - val_accuracy: 0.9439\n",
            "Epoch 25/1000\n",
            "23/31 [=====================>........] - ETA: 0s - loss: 0.2189 - accuracy: 0.9144\n",
            "Epoch 25: saving model to model/keypoint_classifier\\keypoint_classifier.hdf5\n",
            "31/31 [==============================] - 0s 5ms/step - loss: 0.2142 - accuracy: 0.9178 - val_loss: 0.1540 - val_accuracy: 0.9469\n",
            "Epoch 26/1000\n",
            "22/31 [====================>.........] - ETA: 0s - loss: 0.1992 - accuracy: 0.9311\n",
            "Epoch 26: saving model to model/keypoint_classifier\\keypoint_classifier.hdf5\n",
            "31/31 [==============================] - 0s 6ms/step - loss: 0.2042 - accuracy: 0.9265 - val_loss: 0.1376 - val_accuracy: 0.9520\n",
            "Epoch 27/1000\n",
            "15/31 [=============>................] - ETA: 0s - loss: 0.1853 - accuracy: 0.9344\n",
            "Epoch 27: saving model to model/keypoint_classifier\\keypoint_classifier.hdf5\n",
            "31/31 [==============================] - 0s 7ms/step - loss: 0.1926 - accuracy: 0.9296 - val_loss: 0.1338 - val_accuracy: 0.9520\n",
            "Epoch 28/1000\n",
            "21/31 [===================>..........] - ETA: 0s - loss: 0.1947 - accuracy: 0.9293\n",
            "Epoch 28: saving model to model/keypoint_classifier\\keypoint_classifier.hdf5\n",
            "31/31 [==============================] - 0s 5ms/step - loss: 0.1906 - accuracy: 0.9308 - val_loss: 0.1212 - val_accuracy: 0.9724\n",
            "Epoch 29/1000\n",
            "20/31 [==================>...........] - ETA: 0s - loss: 0.1752 - accuracy: 0.9359\n",
            "Epoch 29: saving model to model/keypoint_classifier\\keypoint_classifier.hdf5\n",
            "31/31 [==============================] - 0s 6ms/step - loss: 0.1824 - accuracy: 0.9301 - val_loss: 0.1124 - val_accuracy: 0.9735\n",
            "Epoch 30/1000\n",
            "21/31 [===================>..........] - ETA: 0s - loss: 0.1666 - accuracy: 0.9390\n",
            "Epoch 30: saving model to model/keypoint_classifier\\keypoint_classifier.hdf5\n",
            "31/31 [==============================] - 0s 6ms/step - loss: 0.1622 - accuracy: 0.9423 - val_loss: 0.1068 - val_accuracy: 0.9684\n",
            "Epoch 31/1000\n",
            "21/31 [===================>..........] - ETA: 0s - loss: 0.1593 - accuracy: 0.9405\n",
            "Epoch 31: saving model to model/keypoint_classifier\\keypoint_classifier.hdf5\n",
            "31/31 [==============================] - 0s 6ms/step - loss: 0.1583 - accuracy: 0.9408 - val_loss: 0.0936 - val_accuracy: 0.9786\n",
            "Epoch 32/1000\n",
            "21/31 [===================>..........] - ETA: 0s - loss: 0.1517 - accuracy: 0.9472\n",
            "Epoch 32: saving model to model/keypoint_classifier\\keypoint_classifier.hdf5\n",
            "31/31 [==============================] - 0s 6ms/step - loss: 0.1518 - accuracy: 0.9472 - val_loss: 0.0889 - val_accuracy: 0.9765\n",
            "Epoch 33/1000\n",
            "22/31 [====================>.........] - ETA: 0s - loss: 0.1470 - accuracy: 0.9496\n",
            "Epoch 33: saving model to model/keypoint_classifier\\keypoint_classifier.hdf5\n",
            "31/31 [==============================] - 0s 6ms/step - loss: 0.1443 - accuracy: 0.9513 - val_loss: 0.0845 - val_accuracy: 0.9786\n",
            "Epoch 34/1000\n",
            "20/31 [==================>...........] - ETA: 0s - loss: 0.1311 - accuracy: 0.9535\n",
            "Epoch 34: saving model to model/keypoint_classifier\\keypoint_classifier.hdf5\n",
            "31/31 [==============================] - 0s 5ms/step - loss: 0.1347 - accuracy: 0.9530 - val_loss: 0.0808 - val_accuracy: 0.9796\n",
            "Epoch 35/1000\n",
            "22/31 [====================>.........] - ETA: 0s - loss: 0.1401 - accuracy: 0.9467\n",
            "Epoch 35: saving model to model/keypoint_classifier\\keypoint_classifier.hdf5\n",
            "31/31 [==============================] - 0s 5ms/step - loss: 0.1363 - accuracy: 0.9492 - val_loss: 0.0720 - val_accuracy: 0.9837\n",
            "Epoch 36/1000\n",
            "19/31 [=================>............] - ETA: 0s - loss: 0.1323 - accuracy: 0.9552\n",
            "Epoch 36: saving model to model/keypoint_classifier\\keypoint_classifier.hdf5\n",
            "31/31 [==============================] - 0s 6ms/step - loss: 0.1338 - accuracy: 0.9538 - val_loss: 0.0707 - val_accuracy: 0.9837\n",
            "Epoch 37/1000\n",
            "21/31 [===================>..........] - ETA: 0s - loss: 0.1286 - accuracy: 0.9572\n",
            "Epoch 37: saving model to model/keypoint_classifier\\keypoint_classifier.hdf5\n",
            "31/31 [==============================] - 0s 6ms/step - loss: 0.1278 - accuracy: 0.9569 - val_loss: 0.0670 - val_accuracy: 0.9827\n",
            "Epoch 38/1000\n",
            "27/31 [=========================>....] - ETA: 0s - loss: 0.1246 - accuracy: 0.9552\n",
            "Epoch 38: saving model to model/keypoint_classifier\\keypoint_classifier.hdf5\n",
            "31/31 [==============================] - 0s 9ms/step - loss: 0.1236 - accuracy: 0.9556 - val_loss: 0.0662 - val_accuracy: 0.9837\n",
            "Epoch 39/1000\n",
            "21/31 [===================>..........] - ETA: 0s - loss: 0.1076 - accuracy: 0.9673\n",
            "Epoch 39: saving model to model/keypoint_classifier\\keypoint_classifier.hdf5\n",
            "31/31 [==============================] - 0s 6ms/step - loss: 0.1095 - accuracy: 0.9668 - val_loss: 0.0617 - val_accuracy: 0.9857\n",
            "Epoch 40/1000\n",
            "21/31 [===================>..........] - ETA: 0s - loss: 0.1156 - accuracy: 0.9617\n",
            "Epoch 40: saving model to model/keypoint_classifier\\keypoint_classifier.hdf5\n",
            "31/31 [==============================] - 0s 6ms/step - loss: 0.1131 - accuracy: 0.9627 - val_loss: 0.0585 - val_accuracy: 0.9857\n",
            "Epoch 41/1000\n",
            "20/31 [==================>...........] - ETA: 0s - loss: 0.1057 - accuracy: 0.9699\n",
            "Epoch 41: saving model to model/keypoint_classifier\\keypoint_classifier.hdf5\n",
            "31/31 [==============================] - 0s 6ms/step - loss: 0.1074 - accuracy: 0.9684 - val_loss: 0.0563 - val_accuracy: 0.9847\n",
            "Epoch 42/1000\n",
            "22/31 [====================>.........] - ETA: 0s - loss: 0.1176 - accuracy: 0.9560\n",
            "Epoch 42: saving model to model/keypoint_classifier\\keypoint_classifier.hdf5\n",
            "31/31 [==============================] - 0s 6ms/step - loss: 0.1098 - accuracy: 0.9604 - val_loss: 0.0561 - val_accuracy: 0.9867\n",
            "Epoch 43/1000\n",
            "21/31 [===================>..........] - ETA: 0s - loss: 0.0937 - accuracy: 0.9684\n",
            "Epoch 43: saving model to model/keypoint_classifier\\keypoint_classifier.hdf5\n",
            "31/31 [==============================] - 0s 6ms/step - loss: 0.0977 - accuracy: 0.9661 - val_loss: 0.0509 - val_accuracy: 0.9878\n",
            "Epoch 44/1000\n",
            "21/31 [===================>..........] - ETA: 0s - loss: 0.0966 - accuracy: 0.9688\n",
            "Epoch 44: saving model to model/keypoint_classifier\\keypoint_classifier.hdf5\n",
            "31/31 [==============================] - 0s 6ms/step - loss: 0.1014 - accuracy: 0.9661 - val_loss: 0.0507 - val_accuracy: 0.9878\n",
            "Epoch 45/1000\n",
            "22/31 [====================>.........] - ETA: 0s - loss: 0.0947 - accuracy: 0.9691\n",
            "Epoch 45: saving model to model/keypoint_classifier\\keypoint_classifier.hdf5\n",
            "31/31 [==============================] - 0s 5ms/step - loss: 0.0973 - accuracy: 0.9668 - val_loss: 0.0471 - val_accuracy: 0.9888\n",
            "Epoch 46/1000\n",
            "20/31 [==================>...........] - ETA: 0s - loss: 0.1060 - accuracy: 0.9594\n",
            "Epoch 46: saving model to model/keypoint_classifier\\keypoint_classifier.hdf5\n",
            "31/31 [==============================] - 0s 6ms/step - loss: 0.0997 - accuracy: 0.9633 - val_loss: 0.0479 - val_accuracy: 0.9867\n",
            "Epoch 47/1000\n",
            "21/31 [===================>..........] - ETA: 0s - loss: 0.0883 - accuracy: 0.9717\n",
            "Epoch 47: saving model to model/keypoint_classifier\\keypoint_classifier.hdf5\n",
            "31/31 [==============================] - 0s 6ms/step - loss: 0.0882 - accuracy: 0.9717 - val_loss: 0.0451 - val_accuracy: 0.9878\n",
            "Epoch 48/1000\n",
            "19/31 [=================>............] - ETA: 0s - loss: 0.0909 - accuracy: 0.9704\n",
            "Epoch 48: saving model to model/keypoint_classifier\\keypoint_classifier.hdf5\n",
            "31/31 [==============================] - 0s 6ms/step - loss: 0.0859 - accuracy: 0.9735 - val_loss: 0.0428 - val_accuracy: 0.9888\n",
            "Epoch 49/1000\n",
            "22/31 [====================>.........] - ETA: 0s - loss: 0.0823 - accuracy: 0.9727\n",
            "Epoch 49: saving model to model/keypoint_classifier\\keypoint_classifier.hdf5\n",
            "31/31 [==============================] - 0s 6ms/step - loss: 0.0853 - accuracy: 0.9724 - val_loss: 0.0445 - val_accuracy: 0.9867\n",
            "Epoch 50/1000\n",
            "20/31 [==================>...........] - ETA: 0s - loss: 0.0814 - accuracy: 0.9727\n",
            "Epoch 50: saving model to model/keypoint_classifier\\keypoint_classifier.hdf5\n",
            "31/31 [==============================] - 0s 6ms/step - loss: 0.0826 - accuracy: 0.9737 - val_loss: 0.0427 - val_accuracy: 0.9898\n",
            "Epoch 51/1000\n",
            "21/31 [===================>..........] - ETA: 0s - loss: 0.0882 - accuracy: 0.9710\n",
            "Epoch 51: saving model to model/keypoint_classifier\\keypoint_classifier.hdf5\n",
            "31/31 [==============================] - 0s 5ms/step - loss: 0.0866 - accuracy: 0.9696 - val_loss: 0.0386 - val_accuracy: 0.9898\n",
            "Epoch 52/1000\n",
            "22/31 [====================>.........] - ETA: 0s - loss: 0.0833 - accuracy: 0.9702\n",
            "Epoch 52: saving model to model/keypoint_classifier\\keypoint_classifier.hdf5\n",
            "31/31 [==============================] - 0s 6ms/step - loss: 0.0835 - accuracy: 0.9712 - val_loss: 0.0469 - val_accuracy: 0.9867\n",
            "Epoch 53/1000\n",
            "22/31 [====================>.........] - ETA: 0s - loss: 0.0823 - accuracy: 0.9751\n",
            "Epoch 53: saving model to model/keypoint_classifier\\keypoint_classifier.hdf5\n",
            "31/31 [==============================] - 0s 6ms/step - loss: 0.0837 - accuracy: 0.9730 - val_loss: 0.0370 - val_accuracy: 0.9929\n",
            "Epoch 54/1000\n",
            "21/31 [===================>..........] - ETA: 0s - loss: 0.0744 - accuracy: 0.9773\n",
            "Epoch 54: saving model to model/keypoint_classifier\\keypoint_classifier.hdf5\n",
            "31/31 [==============================] - 0s 5ms/step - loss: 0.0799 - accuracy: 0.9735 - val_loss: 0.0361 - val_accuracy: 0.9918\n",
            "Epoch 55/1000\n",
            "21/31 [===================>..........] - ETA: 0s - loss: 0.0794 - accuracy: 0.9736\n",
            "Epoch 55: saving model to model/keypoint_classifier\\keypoint_classifier.hdf5\n",
            "31/31 [==============================] - 0s 6ms/step - loss: 0.0765 - accuracy: 0.9742 - val_loss: 0.0383 - val_accuracy: 0.9888\n",
            "Epoch 56/1000\n",
            "22/31 [====================>.........] - ETA: 0s - loss: 0.0746 - accuracy: 0.9762\n",
            "Epoch 56: saving model to model/keypoint_classifier\\keypoint_classifier.hdf5\n",
            "31/31 [==============================] - 0s 6ms/step - loss: 0.0737 - accuracy: 0.9755 - val_loss: 0.0340 - val_accuracy: 0.9908\n",
            "Epoch 57/1000\n",
            "22/31 [====================>.........] - ETA: 0s - loss: 0.0795 - accuracy: 0.9751\n",
            "Epoch 57: saving model to model/keypoint_classifier\\keypoint_classifier.hdf5\n",
            "31/31 [==============================] - 0s 5ms/step - loss: 0.0771 - accuracy: 0.9755 - val_loss: 0.0358 - val_accuracy: 0.9888\n",
            "Epoch 58/1000\n",
            "20/31 [==================>...........] - ETA: 0s - loss: 0.0711 - accuracy: 0.9762\n",
            "Epoch 58: saving model to model/keypoint_classifier\\keypoint_classifier.hdf5\n",
            "31/31 [==============================] - 0s 6ms/step - loss: 0.0671 - accuracy: 0.9768 - val_loss: 0.0315 - val_accuracy: 0.9929\n",
            "Epoch 59/1000\n",
            "22/31 [====================>.........] - ETA: 0s - loss: 0.0743 - accuracy: 0.9748\n",
            "Epoch 59: saving model to model/keypoint_classifier\\keypoint_classifier.hdf5\n",
            "31/31 [==============================] - 0s 5ms/step - loss: 0.0763 - accuracy: 0.9760 - val_loss: 0.0396 - val_accuracy: 0.9867\n",
            "Epoch 60/1000\n",
            "20/31 [==================>...........] - ETA: 0s - loss: 0.0733 - accuracy: 0.9742\n",
            "Epoch 60: saving model to model/keypoint_classifier\\keypoint_classifier.hdf5\n",
            "31/31 [==============================] - 0s 6ms/step - loss: 0.0725 - accuracy: 0.9737 - val_loss: 0.0344 - val_accuracy: 0.9898\n",
            "Epoch 61/1000\n",
            "22/31 [====================>.........] - ETA: 0s - loss: 0.0676 - accuracy: 0.9787\n",
            "Epoch 61: saving model to model/keypoint_classifier\\keypoint_classifier.hdf5\n",
            "31/31 [==============================] - 0s 6ms/step - loss: 0.0684 - accuracy: 0.9786 - val_loss: 0.0344 - val_accuracy: 0.9888\n",
            "Epoch 62/1000\n",
            "22/31 [====================>.........] - ETA: 0s - loss: 0.0610 - accuracy: 0.9815\n",
            "Epoch 62: saving model to model/keypoint_classifier\\keypoint_classifier.hdf5\n",
            "31/31 [==============================] - 0s 6ms/step - loss: 0.0611 - accuracy: 0.9811 - val_loss: 0.0298 - val_accuracy: 0.9929\n",
            "Epoch 63/1000\n",
            "23/31 [=====================>........] - ETA: 0s - loss: 0.0592 - accuracy: 0.9830\n",
            "Epoch 63: saving model to model/keypoint_classifier\\keypoint_classifier.hdf5\n",
            "31/31 [==============================] - 0s 5ms/step - loss: 0.0613 - accuracy: 0.9814 - val_loss: 0.0297 - val_accuracy: 0.9939\n",
            "Epoch 64/1000\n",
            "21/31 [===================>..........] - ETA: 0s - loss: 0.0635 - accuracy: 0.9814\n",
            "Epoch 64: saving model to model/keypoint_classifier\\keypoint_classifier.hdf5\n",
            "31/31 [==============================] - 0s 6ms/step - loss: 0.0651 - accuracy: 0.9809 - val_loss: 0.0291 - val_accuracy: 0.9918\n",
            "Epoch 65/1000\n",
            "22/31 [====================>.........] - ETA: 0s - loss: 0.0524 - accuracy: 0.9851\n",
            "Epoch 65: saving model to model/keypoint_classifier\\keypoint_classifier.hdf5\n",
            "31/31 [==============================] - 0s 6ms/step - loss: 0.0553 - accuracy: 0.9839 - val_loss: 0.0299 - val_accuracy: 0.9939\n",
            "Epoch 66/1000\n",
            "22/31 [====================>.........] - ETA: 0s - loss: 0.0603 - accuracy: 0.9801\n",
            "Epoch 66: saving model to model/keypoint_classifier\\keypoint_classifier.hdf5\n",
            "31/31 [==============================] - 0s 5ms/step - loss: 0.0603 - accuracy: 0.9798 - val_loss: 0.0285 - val_accuracy: 0.9918\n",
            "Epoch 67/1000\n",
            "19/31 [=================>............] - ETA: 0s - loss: 0.0619 - accuracy: 0.9819\n",
            "Epoch 67: saving model to model/keypoint_classifier\\keypoint_classifier.hdf5\n",
            "31/31 [==============================] - 0s 6ms/step - loss: 0.0587 - accuracy: 0.9821 - val_loss: 0.0284 - val_accuracy: 0.9898\n",
            "Epoch 68/1000\n",
            "22/31 [====================>.........] - ETA: 0s - loss: 0.0647 - accuracy: 0.9787\n",
            "Epoch 68: saving model to model/keypoint_classifier\\keypoint_classifier.hdf5\n",
            "31/31 [==============================] - 0s 6ms/step - loss: 0.0613 - accuracy: 0.9801 - val_loss: 0.0268 - val_accuracy: 0.9929\n",
            "Epoch 69/1000\n",
            "21/31 [===================>..........] - ETA: 0s - loss: 0.0656 - accuracy: 0.9754\n",
            "Epoch 69: saving model to model/keypoint_classifier\\keypoint_classifier.hdf5\n",
            "31/31 [==============================] - 0s 6ms/step - loss: 0.0679 - accuracy: 0.9755 - val_loss: 0.0266 - val_accuracy: 0.9939\n",
            "Epoch 70/1000\n",
            "20/31 [==================>...........] - ETA: 0s - loss: 0.0573 - accuracy: 0.9801\n",
            "Epoch 70: saving model to model/keypoint_classifier\\keypoint_classifier.hdf5\n",
            "31/31 [==============================] - 0s 6ms/step - loss: 0.0572 - accuracy: 0.9809 - val_loss: 0.0279 - val_accuracy: 0.9929\n",
            "Epoch 71/1000\n",
            "22/31 [====================>.........] - ETA: 0s - loss: 0.0605 - accuracy: 0.9798\n",
            "Epoch 71: saving model to model/keypoint_classifier\\keypoint_classifier.hdf5\n",
            "31/31 [==============================] - 0s 6ms/step - loss: 0.0576 - accuracy: 0.9816 - val_loss: 0.0253 - val_accuracy: 0.9949\n",
            "Epoch 72/1000\n",
            "22/31 [====================>.........] - ETA: 0s - loss: 0.0521 - accuracy: 0.9837\n",
            "Epoch 72: saving model to model/keypoint_classifier\\keypoint_classifier.hdf5\n",
            "31/31 [==============================] - 0s 6ms/step - loss: 0.0510 - accuracy: 0.9826 - val_loss: 0.0262 - val_accuracy: 0.9918\n",
            "Epoch 73/1000\n",
            "25/31 [=======================>......] - ETA: 0s - loss: 0.0575 - accuracy: 0.9806\n",
            "Epoch 73: saving model to model/keypoint_classifier\\keypoint_classifier.hdf5\n",
            "31/31 [==============================] - 0s 8ms/step - loss: 0.0574 - accuracy: 0.9801 - val_loss: 0.0268 - val_accuracy: 0.9918\n",
            "Epoch 74/1000\n",
            "19/31 [=================>............] - ETA: 0s - loss: 0.0747 - accuracy: 0.9708\n",
            "Epoch 74: saving model to model/keypoint_classifier\\keypoint_classifier.hdf5\n",
            "31/31 [==============================] - 0s 6ms/step - loss: 0.0729 - accuracy: 0.9724 - val_loss: 0.0282 - val_accuracy: 0.9929\n",
            "Epoch 75/1000\n",
            "21/31 [===================>..........] - ETA: 0s - loss: 0.0571 - accuracy: 0.9814\n",
            "Epoch 75: saving model to model/keypoint_classifier\\keypoint_classifier.hdf5\n",
            "31/31 [==============================] - 0s 6ms/step - loss: 0.0579 - accuracy: 0.9806 - val_loss: 0.0233 - val_accuracy: 0.9929\n",
            "Epoch 76/1000\n",
            "21/31 [===================>..........] - ETA: 0s - loss: 0.0508 - accuracy: 0.9840\n",
            "Epoch 76: saving model to model/keypoint_classifier\\keypoint_classifier.hdf5\n",
            "31/31 [==============================] - 0s 6ms/step - loss: 0.0549 - accuracy: 0.9814 - val_loss: 0.0262 - val_accuracy: 0.9918\n",
            "Epoch 77/1000\n",
            "21/31 [===================>..........] - ETA: 0s - loss: 0.0532 - accuracy: 0.9844\n",
            "Epoch 77: saving model to model/keypoint_classifier\\keypoint_classifier.hdf5\n",
            "31/31 [==============================] - 0s 5ms/step - loss: 0.0536 - accuracy: 0.9832 - val_loss: 0.0258 - val_accuracy: 0.9929\n",
            "Epoch 78/1000\n",
            "21/31 [===================>..........] - ETA: 0s - loss: 0.0544 - accuracy: 0.9788\n",
            "Epoch 78: saving model to model/keypoint_classifier\\keypoint_classifier.hdf5\n",
            "31/31 [==============================] - 0s 6ms/step - loss: 0.0539 - accuracy: 0.9798 - val_loss: 0.0242 - val_accuracy: 0.9959\n",
            "Epoch 79/1000\n",
            "22/31 [====================>.........] - ETA: 0s - loss: 0.0495 - accuracy: 0.9837\n",
            "Epoch 79: saving model to model/keypoint_classifier\\keypoint_classifier.hdf5\n",
            "31/31 [==============================] - 0s 5ms/step - loss: 0.0500 - accuracy: 0.9824 - val_loss: 0.0232 - val_accuracy: 0.9929\n",
            "Epoch 80/1000\n",
            "22/31 [====================>.........] - ETA: 0s - loss: 0.0551 - accuracy: 0.9787\n",
            "Epoch 80: saving model to model/keypoint_classifier\\keypoint_classifier.hdf5\n",
            "31/31 [==============================] - 0s 6ms/step - loss: 0.0553 - accuracy: 0.9796 - val_loss: 0.0225 - val_accuracy: 0.9929\n",
            "Epoch 81/1000\n",
            "20/31 [==================>...........] - ETA: 0s - loss: 0.0524 - accuracy: 0.9805\n",
            "Epoch 81: saving model to model/keypoint_classifier\\keypoint_classifier.hdf5\n",
            "31/31 [==============================] - 0s 6ms/step - loss: 0.0555 - accuracy: 0.9801 - val_loss: 0.0310 - val_accuracy: 0.9949\n",
            "Epoch 82/1000\n",
            "22/31 [====================>.........] - ETA: 0s - loss: 0.0497 - accuracy: 0.9865\n",
            "Epoch 82: saving model to model/keypoint_classifier\\keypoint_classifier.hdf5\n",
            "31/31 [==============================] - 0s 6ms/step - loss: 0.0488 - accuracy: 0.9847 - val_loss: 0.0292 - val_accuracy: 0.9949\n",
            "Epoch 83/1000\n",
            "21/31 [===================>..........] - ETA: 0s - loss: 0.0511 - accuracy: 0.9818\n",
            "Epoch 83: saving model to model/keypoint_classifier\\keypoint_classifier.hdf5\n",
            "31/31 [==============================] - 0s 6ms/step - loss: 0.0526 - accuracy: 0.9804 - val_loss: 0.0232 - val_accuracy: 0.9929\n",
            "Epoch 84/1000\n",
            "21/31 [===================>..........] - ETA: 0s - loss: 0.0472 - accuracy: 0.9851\n",
            "Epoch 84: saving model to model/keypoint_classifier\\keypoint_classifier.hdf5\n",
            "31/31 [==============================] - 0s 6ms/step - loss: 0.0465 - accuracy: 0.9849 - val_loss: 0.0227 - val_accuracy: 0.9918\n",
            "Epoch 85/1000\n",
            "21/31 [===================>..........] - ETA: 0s - loss: 0.0500 - accuracy: 0.9859\n",
            "Epoch 85: saving model to model/keypoint_classifier\\keypoint_classifier.hdf5\n",
            "31/31 [==============================] - 0s 5ms/step - loss: 0.0491 - accuracy: 0.9857 - val_loss: 0.0236 - val_accuracy: 0.9918\n",
            "Epoch 86/1000\n",
            "21/31 [===================>..........] - ETA: 0s - loss: 0.0455 - accuracy: 0.9866\n",
            "Epoch 86: saving model to model/keypoint_classifier\\keypoint_classifier.hdf5\n",
            "31/31 [==============================] - 0s 5ms/step - loss: 0.0466 - accuracy: 0.9847 - val_loss: 0.0215 - val_accuracy: 0.9929\n",
            "Epoch 87/1000\n",
            "22/31 [====================>.........] - ETA: 0s - loss: 0.0483 - accuracy: 0.9826\n",
            "Epoch 87: saving model to model/keypoint_classifier\\keypoint_classifier.hdf5\n",
            "31/31 [==============================] - 0s 5ms/step - loss: 0.0480 - accuracy: 0.9837 - val_loss: 0.0206 - val_accuracy: 0.9949\n",
            "Epoch 88/1000\n",
            "22/31 [====================>.........] - ETA: 0s - loss: 0.0482 - accuracy: 0.9844\n",
            "Epoch 88: saving model to model/keypoint_classifier\\keypoint_classifier.hdf5\n",
            "31/31 [==============================] - 0s 6ms/step - loss: 0.0477 - accuracy: 0.9847 - val_loss: 0.0197 - val_accuracy: 0.9929\n",
            "Epoch 89/1000\n",
            "19/31 [=================>............] - ETA: 0s - loss: 0.0492 - accuracy: 0.9836\n",
            "Epoch 89: saving model to model/keypoint_classifier\\keypoint_classifier.hdf5\n",
            "31/31 [==============================] - 0s 6ms/step - loss: 0.0507 - accuracy: 0.9816 - val_loss: 0.0207 - val_accuracy: 0.9929\n",
            "Epoch 90/1000\n",
            "22/31 [====================>.........] - ETA: 0s - loss: 0.0430 - accuracy: 0.9837\n",
            "Epoch 90: saving model to model/keypoint_classifier\\keypoint_classifier.hdf5\n",
            "31/31 [==============================] - 0s 5ms/step - loss: 0.0470 - accuracy: 0.9819 - val_loss: 0.0205 - val_accuracy: 0.9959\n",
            "Epoch 91/1000\n",
            "21/31 [===================>..........] - ETA: 0s - loss: 0.0477 - accuracy: 0.9844\n",
            "Epoch 91: saving model to model/keypoint_classifier\\keypoint_classifier.hdf5\n",
            "31/31 [==============================] - 0s 6ms/step - loss: 0.0468 - accuracy: 0.9849 - val_loss: 0.0202 - val_accuracy: 0.9959\n",
            "Epoch 92/1000\n",
            "20/31 [==================>...........] - ETA: 0s - loss: 0.0472 - accuracy: 0.9828\n",
            "Epoch 92: saving model to model/keypoint_classifier\\keypoint_classifier.hdf5\n",
            "31/31 [==============================] - 0s 6ms/step - loss: 0.0434 - accuracy: 0.9860 - val_loss: 0.0194 - val_accuracy: 0.9969\n",
            "Epoch 93/1000\n",
            "23/31 [=====================>........] - ETA: 0s - loss: 0.0371 - accuracy: 0.9874\n",
            "Epoch 93: saving model to model/keypoint_classifier\\keypoint_classifier.hdf5\n",
            "31/31 [==============================] - 0s 8ms/step - loss: 0.0369 - accuracy: 0.9875 - val_loss: 0.0187 - val_accuracy: 0.9969\n",
            "Epoch 94/1000\n",
            "22/31 [====================>.........] - ETA: 0s - loss: 0.0510 - accuracy: 0.9833\n",
            "Epoch 94: saving model to model/keypoint_classifier\\keypoint_classifier.hdf5\n",
            "31/31 [==============================] - 0s 6ms/step - loss: 0.0483 - accuracy: 0.9839 - val_loss: 0.0194 - val_accuracy: 0.9969\n",
            "Epoch 95/1000\n",
            "22/31 [====================>.........] - ETA: 0s - loss: 0.0435 - accuracy: 0.9862\n",
            "Epoch 95: saving model to model/keypoint_classifier\\keypoint_classifier.hdf5\n",
            "31/31 [==============================] - 0s 5ms/step - loss: 0.0414 - accuracy: 0.9857 - val_loss: 0.0215 - val_accuracy: 0.9939\n",
            "Epoch 96/1000\n",
            "23/31 [=====================>........] - ETA: 0s - loss: 0.0420 - accuracy: 0.9840\n",
            "Epoch 96: saving model to model/keypoint_classifier\\keypoint_classifier.hdf5\n",
            "31/31 [==============================] - 0s 6ms/step - loss: 0.0424 - accuracy: 0.9844 - val_loss: 0.0181 - val_accuracy: 0.9959\n",
            "Epoch 97/1000\n",
            "22/31 [====================>.........] - ETA: 0s - loss: 0.0468 - accuracy: 0.9851\n",
            "Epoch 97: saving model to model/keypoint_classifier\\keypoint_classifier.hdf5\n",
            "31/31 [==============================] - 0s 5ms/step - loss: 0.0451 - accuracy: 0.9860 - val_loss: 0.0197 - val_accuracy: 0.9929\n",
            "Epoch 98/1000\n",
            "18/31 [================>.............] - ETA: 0s - loss: 0.0445 - accuracy: 0.9857\n",
            "Epoch 98: saving model to model/keypoint_classifier\\keypoint_classifier.hdf5\n",
            "31/31 [==============================] - 0s 6ms/step - loss: 0.0454 - accuracy: 0.9855 - val_loss: 0.0176 - val_accuracy: 0.9959\n",
            "Epoch 99/1000\n",
            "22/31 [====================>.........] - ETA: 0s - loss: 0.0560 - accuracy: 0.9808\n",
            "Epoch 99: saving model to model/keypoint_classifier\\keypoint_classifier.hdf5\n",
            "31/31 [==============================] - 0s 6ms/step - loss: 0.0499 - accuracy: 0.9834 - val_loss: 0.0190 - val_accuracy: 0.9929\n",
            "Epoch 100/1000\n",
            "21/31 [===================>..........] - ETA: 0s - loss: 0.0459 - accuracy: 0.9814\n",
            "Epoch 100: saving model to model/keypoint_classifier\\keypoint_classifier.hdf5\n",
            "31/31 [==============================] - 0s 5ms/step - loss: 0.0455 - accuracy: 0.9824 - val_loss: 0.0204 - val_accuracy: 0.9939\n",
            "Epoch 101/1000\n",
            "23/31 [=====================>........] - ETA: 0s - loss: 0.0394 - accuracy: 0.9885\n",
            "Epoch 101: saving model to model/keypoint_classifier\\keypoint_classifier.hdf5\n",
            "31/31 [==============================] - 0s 5ms/step - loss: 0.0400 - accuracy: 0.9883 - val_loss: 0.0191 - val_accuracy: 0.9969\n",
            "Epoch 102/1000\n",
            "22/31 [====================>.........] - ETA: 0s - loss: 0.0455 - accuracy: 0.9862\n",
            "Epoch 102: saving model to model/keypoint_classifier\\keypoint_classifier.hdf5\n",
            "31/31 [==============================] - 0s 5ms/step - loss: 0.0427 - accuracy: 0.9860 - val_loss: 0.0224 - val_accuracy: 0.9908\n",
            "Epoch 103/1000\n",
            "20/31 [==================>...........] - ETA: 0s - loss: 0.0480 - accuracy: 0.9840\n",
            "Epoch 103: saving model to model/keypoint_classifier\\keypoint_classifier.hdf5\n",
            "31/31 [==============================] - 0s 6ms/step - loss: 0.0446 - accuracy: 0.9852 - val_loss: 0.0181 - val_accuracy: 0.9969\n",
            "Epoch 104/1000\n",
            "21/31 [===================>..........] - ETA: 0s - loss: 0.0540 - accuracy: 0.9788\n",
            "Epoch 104: saving model to model/keypoint_classifier\\keypoint_classifier.hdf5\n",
            "31/31 [==============================] - 0s 5ms/step - loss: 0.0487 - accuracy: 0.9806 - val_loss: 0.0192 - val_accuracy: 0.9929\n",
            "Epoch 105/1000\n",
            "22/31 [====================>.........] - ETA: 0s - loss: 0.0417 - accuracy: 0.9858\n",
            "Epoch 105: saving model to model/keypoint_classifier\\keypoint_classifier.hdf5\n",
            "31/31 [==============================] - 0s 6ms/step - loss: 0.0421 - accuracy: 0.9855 - val_loss: 0.0173 - val_accuracy: 0.9959\n",
            "Epoch 106/1000\n",
            "20/31 [==================>...........] - ETA: 0s - loss: 0.0338 - accuracy: 0.9906\n",
            "Epoch 106: saving model to model/keypoint_classifier\\keypoint_classifier.hdf5\n",
            "31/31 [==============================] - 0s 6ms/step - loss: 0.0384 - accuracy: 0.9880 - val_loss: 0.0171 - val_accuracy: 0.9990\n",
            "Epoch 107/1000\n",
            "21/31 [===================>..........] - ETA: 0s - loss: 0.0424 - accuracy: 0.9862\n",
            "Epoch 107: saving model to model/keypoint_classifier\\keypoint_classifier.hdf5\n",
            "31/31 [==============================] - 0s 5ms/step - loss: 0.0419 - accuracy: 0.9865 - val_loss: 0.0175 - val_accuracy: 0.9959\n",
            "Epoch 108/1000\n",
            "19/31 [=================>............] - ETA: 0s - loss: 0.0465 - accuracy: 0.9852\n",
            "Epoch 108: saving model to model/keypoint_classifier\\keypoint_classifier.hdf5\n",
            "31/31 [==============================] - 0s 8ms/step - loss: 0.0409 - accuracy: 0.9875 - val_loss: 0.0186 - val_accuracy: 0.9929\n",
            "Epoch 109/1000\n",
            "22/31 [====================>.........] - ETA: 0s - loss: 0.0372 - accuracy: 0.9869\n",
            "Epoch 109: saving model to model/keypoint_classifier\\keypoint_classifier.hdf5\n",
            "31/31 [==============================] - 0s 5ms/step - loss: 0.0365 - accuracy: 0.9878 - val_loss: 0.0176 - val_accuracy: 0.9939\n",
            "Epoch 110/1000\n",
            "22/31 [====================>.........] - ETA: 0s - loss: 0.0447 - accuracy: 0.9851\n",
            "Epoch 110: saving model to model/keypoint_classifier\\keypoint_classifier.hdf5\n",
            "31/31 [==============================] - 0s 6ms/step - loss: 0.0419 - accuracy: 0.9862 - val_loss: 0.0170 - val_accuracy: 0.9969\n",
            "Epoch 111/1000\n",
            "22/31 [====================>.........] - ETA: 0s - loss: 0.0429 - accuracy: 0.9862\n",
            "Epoch 111: saving model to model/keypoint_classifier\\keypoint_classifier.hdf5\n",
            "31/31 [==============================] - 0s 6ms/step - loss: 0.0409 - accuracy: 0.9872 - val_loss: 0.0158 - val_accuracy: 0.9969\n",
            "Epoch 112/1000\n",
            "22/31 [====================>.........] - ETA: 0s - loss: 0.0409 - accuracy: 0.9854\n",
            "Epoch 112: saving model to model/keypoint_classifier\\keypoint_classifier.hdf5\n",
            "31/31 [==============================] - 0s 6ms/step - loss: 0.0394 - accuracy: 0.9857 - val_loss: 0.0162 - val_accuracy: 0.9949\n",
            "Epoch 113/1000\n",
            "21/31 [===================>..........] - ETA: 0s - loss: 0.0462 - accuracy: 0.9855\n",
            "Epoch 113: saving model to model/keypoint_classifier\\keypoint_classifier.hdf5\n",
            "31/31 [==============================] - 0s 5ms/step - loss: 0.0451 - accuracy: 0.9844 - val_loss: 0.0179 - val_accuracy: 0.9959\n",
            "Epoch 114/1000\n",
            "21/31 [===================>..........] - ETA: 0s - loss: 0.0402 - accuracy: 0.9855\n",
            "Epoch 114: saving model to model/keypoint_classifier\\keypoint_classifier.hdf5\n",
            "31/31 [==============================] - 0s 6ms/step - loss: 0.0422 - accuracy: 0.9857 - val_loss: 0.0171 - val_accuracy: 0.9949\n",
            "Epoch 115/1000\n",
            "22/31 [====================>.........] - ETA: 0s - loss: 0.0459 - accuracy: 0.9798\n",
            "Epoch 115: saving model to model/keypoint_classifier\\keypoint_classifier.hdf5\n",
            "31/31 [==============================] - 0s 6ms/step - loss: 0.0413 - accuracy: 0.9832 - val_loss: 0.0161 - val_accuracy: 0.9969\n",
            "Epoch 116/1000\n",
            "21/31 [===================>..........] - ETA: 0s - loss: 0.0393 - accuracy: 0.9859\n",
            "Epoch 116: saving model to model/keypoint_classifier\\keypoint_classifier.hdf5\n",
            "31/31 [==============================] - 0s 6ms/step - loss: 0.0393 - accuracy: 0.9839 - val_loss: 0.0168 - val_accuracy: 0.9959\n",
            "Epoch 117/1000\n",
            "21/31 [===================>..........] - ETA: 0s - loss: 0.0419 - accuracy: 0.9866\n",
            "Epoch 117: saving model to model/keypoint_classifier\\keypoint_classifier.hdf5\n",
            "31/31 [==============================] - 0s 6ms/step - loss: 0.0391 - accuracy: 0.9875 - val_loss: 0.0166 - val_accuracy: 0.9959\n",
            "Epoch 118/1000\n",
            "21/31 [===================>..........] - ETA: 0s - loss: 0.0341 - accuracy: 0.9862\n",
            "Epoch 118: saving model to model/keypoint_classifier\\keypoint_classifier.hdf5\n",
            "31/31 [==============================] - 0s 6ms/step - loss: 0.0342 - accuracy: 0.9862 - val_loss: 0.0149 - val_accuracy: 0.9969\n",
            "Epoch 119/1000\n",
            "21/31 [===================>..........] - ETA: 0s - loss: 0.0341 - accuracy: 0.9885\n",
            "Epoch 119: saving model to model/keypoint_classifier\\keypoint_classifier.hdf5\n",
            "31/31 [==============================] - 0s 6ms/step - loss: 0.0349 - accuracy: 0.9888 - val_loss: 0.0158 - val_accuracy: 0.9990\n",
            "Epoch 120/1000\n",
            "18/31 [================>.............] - ETA: 0s - loss: 0.0419 - accuracy: 0.9839\n",
            "Epoch 120: saving model to model/keypoint_classifier\\keypoint_classifier.hdf5\n",
            "31/31 [==============================] - 0s 6ms/step - loss: 0.0374 - accuracy: 0.9855 - val_loss: 0.0159 - val_accuracy: 0.9949\n",
            "Epoch 121/1000\n",
            "22/31 [====================>.........] - ETA: 0s - loss: 0.0376 - accuracy: 0.9862\n",
            "Epoch 121: saving model to model/keypoint_classifier\\keypoint_classifier.hdf5\n",
            "31/31 [==============================] - 0s 5ms/step - loss: 0.0387 - accuracy: 0.9860 - val_loss: 0.0147 - val_accuracy: 0.9969\n",
            "Epoch 122/1000\n",
            "21/31 [===================>..........] - ETA: 0s - loss: 0.0394 - accuracy: 0.9851\n",
            "Epoch 122: saving model to model/keypoint_classifier\\keypoint_classifier.hdf5\n",
            "31/31 [==============================] - 0s 5ms/step - loss: 0.0405 - accuracy: 0.9834 - val_loss: 0.0220 - val_accuracy: 0.9929\n",
            "Epoch 123/1000\n",
            "22/31 [====================>.........] - ETA: 0s - loss: 0.0426 - accuracy: 0.9851\n",
            "Epoch 123: saving model to model/keypoint_classifier\\keypoint_classifier.hdf5\n",
            "31/31 [==============================] - 0s 5ms/step - loss: 0.0404 - accuracy: 0.9865 - val_loss: 0.0183 - val_accuracy: 0.9918\n",
            "Epoch 124/1000\n",
            "23/31 [=====================>........] - ETA: 0s - loss: 0.0350 - accuracy: 0.9881\n",
            "Epoch 124: saving model to model/keypoint_classifier\\keypoint_classifier.hdf5\n",
            "31/31 [==============================] - 0s 5ms/step - loss: 0.0349 - accuracy: 0.9878 - val_loss: 0.0154 - val_accuracy: 0.9969\n",
            "Epoch 125/1000\n",
            "21/31 [===================>..........] - ETA: 0s - loss: 0.0414 - accuracy: 0.9866\n",
            "Epoch 125: saving model to model/keypoint_classifier\\keypoint_classifier.hdf5\n",
            "31/31 [==============================] - 0s 6ms/step - loss: 0.0367 - accuracy: 0.9878 - val_loss: 0.0159 - val_accuracy: 0.9990\n",
            "Epoch 126/1000\n",
            "23/31 [=====================>........] - ETA: 0s - loss: 0.0387 - accuracy: 0.9871\n",
            "Epoch 126: saving model to model/keypoint_classifier\\keypoint_classifier.hdf5\n",
            "31/31 [==============================] - 0s 5ms/step - loss: 0.0422 - accuracy: 0.9862 - val_loss: 0.0166 - val_accuracy: 0.9939\n",
            "Epoch 127/1000\n",
            "22/31 [====================>.........] - ETA: 0s - loss: 0.0416 - accuracy: 0.9844\n",
            "Epoch 127: saving model to model/keypoint_classifier\\keypoint_classifier.hdf5\n",
            "31/31 [==============================] - 0s 7ms/step - loss: 0.0453 - accuracy: 0.9826 - val_loss: 0.0196 - val_accuracy: 0.9918\n",
            "Epoch 128/1000\n",
            "17/31 [===============>..............] - ETA: 0s - loss: 0.0400 - accuracy: 0.9844\n",
            "Epoch 128: saving model to model/keypoint_classifier\\keypoint_classifier.hdf5\n",
            "31/31 [==============================] - 0s 7ms/step - loss: 0.0414 - accuracy: 0.9852 - val_loss: 0.0161 - val_accuracy: 0.9929\n",
            "Epoch 129/1000\n",
            "31/31 [==============================] - ETA: 0s - loss: 0.0358 - accuracy: 0.9885\n",
            "Epoch 129: saving model to model/keypoint_classifier\\keypoint_classifier.hdf5\n",
            "31/31 [==============================] - 0s 7ms/step - loss: 0.0358 - accuracy: 0.9885 - val_loss: 0.0165 - val_accuracy: 0.9949\n",
            "Epoch 130/1000\n",
            "21/31 [===================>..........] - ETA: 0s - loss: 0.0357 - accuracy: 0.9881\n",
            "Epoch 130: saving model to model/keypoint_classifier\\keypoint_classifier.hdf5\n",
            "31/31 [==============================] - 0s 6ms/step - loss: 0.0382 - accuracy: 0.9880 - val_loss: 0.0189 - val_accuracy: 0.9929\n",
            "Epoch 131/1000\n",
            "18/31 [================>.............] - ETA: 0s - loss: 0.0414 - accuracy: 0.9848\n",
            "Epoch 131: saving model to model/keypoint_classifier\\keypoint_classifier.hdf5\n",
            "31/31 [==============================] - 0s 6ms/step - loss: 0.0403 - accuracy: 0.9855 - val_loss: 0.0244 - val_accuracy: 0.9929\n",
            "Epoch 132/1000\n",
            "20/31 [==================>...........] - ETA: 0s - loss: 0.0496 - accuracy: 0.9828\n",
            "Epoch 132: saving model to model/keypoint_classifier\\keypoint_classifier.hdf5\n",
            "31/31 [==============================] - 0s 6ms/step - loss: 0.0419 - accuracy: 0.9862 - val_loss: 0.0213 - val_accuracy: 0.9918\n",
            "Epoch 133/1000\n",
            "20/31 [==================>...........] - ETA: 0s - loss: 0.0349 - accuracy: 0.9891\n",
            "Epoch 133: saving model to model/keypoint_classifier\\keypoint_classifier.hdf5\n",
            "31/31 [==============================] - 0s 6ms/step - loss: 0.0379 - accuracy: 0.9880 - val_loss: 0.0173 - val_accuracy: 0.9980\n",
            "Epoch 134/1000\n",
            "22/31 [====================>.........] - ETA: 0s - loss: 0.0343 - accuracy: 0.9865\n",
            "Epoch 134: saving model to model/keypoint_classifier\\keypoint_classifier.hdf5\n",
            "31/31 [==============================] - 0s 6ms/step - loss: 0.0347 - accuracy: 0.9872 - val_loss: 0.0156 - val_accuracy: 0.9949\n",
            "Epoch 135/1000\n",
            "22/31 [====================>.........] - ETA: 0s - loss: 0.0364 - accuracy: 0.9858\n",
            "Epoch 135: saving model to model/keypoint_classifier\\keypoint_classifier.hdf5\n",
            "31/31 [==============================] - 0s 6ms/step - loss: 0.0362 - accuracy: 0.9872 - val_loss: 0.0164 - val_accuracy: 0.9929\n",
            "Epoch 136/1000\n",
            "19/31 [=================>............] - ETA: 0s - loss: 0.0359 - accuracy: 0.9877\n",
            "Epoch 136: saving model to model/keypoint_classifier\\keypoint_classifier.hdf5\n",
            "31/31 [==============================] - 0s 6ms/step - loss: 0.0399 - accuracy: 0.9852 - val_loss: 0.0127 - val_accuracy: 0.9969\n",
            "Epoch 137/1000\n",
            "21/31 [===================>..........] - ETA: 0s - loss: 0.0361 - accuracy: 0.9877\n",
            "Epoch 137: saving model to model/keypoint_classifier\\keypoint_classifier.hdf5\n",
            "31/31 [==============================] - 0s 6ms/step - loss: 0.0338 - accuracy: 0.9880 - val_loss: 0.0173 - val_accuracy: 0.9929\n",
            "Epoch 138/1000\n",
            "21/31 [===================>..........] - ETA: 0s - loss: 0.0323 - accuracy: 0.9877\n",
            "Epoch 138: saving model to model/keypoint_classifier\\keypoint_classifier.hdf5\n",
            "31/31 [==============================] - 0s 6ms/step - loss: 0.0349 - accuracy: 0.9875 - val_loss: 0.0157 - val_accuracy: 0.9939\n",
            "Epoch 139/1000\n",
            "21/31 [===================>..........] - ETA: 0s - loss: 0.0386 - accuracy: 0.9859\n",
            "Epoch 139: saving model to model/keypoint_classifier\\keypoint_classifier.hdf5\n",
            "31/31 [==============================] - 0s 6ms/step - loss: 0.0369 - accuracy: 0.9865 - val_loss: 0.0136 - val_accuracy: 0.9980\n",
            "Epoch 140/1000\n",
            "22/31 [====================>.........] - ETA: 0s - loss: 0.0331 - accuracy: 0.9876\n",
            "Epoch 140: saving model to model/keypoint_classifier\\keypoint_classifier.hdf5\n",
            "31/31 [==============================] - 0s 6ms/step - loss: 0.0336 - accuracy: 0.9880 - val_loss: 0.0130 - val_accuracy: 0.9959\n",
            "Epoch 141/1000\n",
            "20/31 [==================>...........] - ETA: 0s - loss: 0.0298 - accuracy: 0.9895\n",
            "Epoch 141: saving model to model/keypoint_classifier\\keypoint_classifier.hdf5\n",
            "31/31 [==============================] - 0s 6ms/step - loss: 0.0342 - accuracy: 0.9888 - val_loss: 0.0152 - val_accuracy: 0.9949\n",
            "Epoch 142/1000\n",
            "21/31 [===================>..........] - ETA: 0s - loss: 0.0288 - accuracy: 0.9903\n",
            "Epoch 142: saving model to model/keypoint_classifier\\keypoint_classifier.hdf5\n",
            "31/31 [==============================] - 0s 6ms/step - loss: 0.0267 - accuracy: 0.9908 - val_loss: 0.0130 - val_accuracy: 0.9959\n",
            "Epoch 143/1000\n",
            "21/31 [===================>..........] - ETA: 0s - loss: 0.0375 - accuracy: 0.9855\n",
            "Epoch 143: saving model to model/keypoint_classifier\\keypoint_classifier.hdf5\n",
            "31/31 [==============================] - 0s 6ms/step - loss: 0.0360 - accuracy: 0.9865 - val_loss: 0.0127 - val_accuracy: 0.9969\n",
            "Epoch 144/1000\n",
            "21/31 [===================>..........] - ETA: 0s - loss: 0.0313 - accuracy: 0.9896\n",
            "Epoch 144: saving model to model/keypoint_classifier\\keypoint_classifier.hdf5\n",
            "31/31 [==============================] - 0s 9ms/step - loss: 0.0333 - accuracy: 0.9883 - val_loss: 0.0139 - val_accuracy: 0.9990\n",
            "Epoch 145/1000\n",
            "22/31 [====================>.........] - ETA: 0s - loss: 0.0394 - accuracy: 0.9876\n",
            "Epoch 145: saving model to model/keypoint_classifier\\keypoint_classifier.hdf5\n",
            "31/31 [==============================] - 0s 5ms/step - loss: 0.0386 - accuracy: 0.9875 - val_loss: 0.0136 - val_accuracy: 0.9969\n",
            "Epoch 146/1000\n",
            "20/31 [==================>...........] - ETA: 0s - loss: 0.0332 - accuracy: 0.9902\n",
            "Epoch 146: saving model to model/keypoint_classifier\\keypoint_classifier.hdf5\n",
            "31/31 [==============================] - 0s 6ms/step - loss: 0.0342 - accuracy: 0.9890 - val_loss: 0.0132 - val_accuracy: 0.9969\n",
            "Epoch 147/1000\n",
            "21/31 [===================>..........] - ETA: 0s - loss: 0.0355 - accuracy: 0.9866\n",
            "Epoch 147: saving model to model/keypoint_classifier\\keypoint_classifier.hdf5\n",
            "31/31 [==============================] - 0s 6ms/step - loss: 0.0330 - accuracy: 0.9880 - val_loss: 0.0116 - val_accuracy: 0.9969\n",
            "Epoch 148/1000\n",
            "22/31 [====================>.........] - ETA: 0s - loss: 0.0347 - accuracy: 0.9858\n",
            "Epoch 148: saving model to model/keypoint_classifier\\keypoint_classifier.hdf5\n",
            "31/31 [==============================] - 0s 6ms/step - loss: 0.0370 - accuracy: 0.9862 - val_loss: 0.0121 - val_accuracy: 0.9969\n",
            "Epoch 149/1000\n",
            "18/31 [================>.............] - ETA: 0s - loss: 0.0299 - accuracy: 0.9887\n",
            "Epoch 149: saving model to model/keypoint_classifier\\keypoint_classifier.hdf5\n",
            "31/31 [==============================] - 0s 6ms/step - loss: 0.0308 - accuracy: 0.9883 - val_loss: 0.0124 - val_accuracy: 0.9969\n",
            "Epoch 150/1000\n",
            "20/31 [==================>...........] - ETA: 0s - loss: 0.0289 - accuracy: 0.9895\n",
            "Epoch 150: saving model to model/keypoint_classifier\\keypoint_classifier.hdf5\n",
            "31/31 [==============================] - 0s 6ms/step - loss: 0.0290 - accuracy: 0.9893 - val_loss: 0.0142 - val_accuracy: 0.9990\n",
            "Epoch 151/1000\n",
            "18/31 [================>.............] - ETA: 0s - loss: 0.0361 - accuracy: 0.9878\n",
            "Epoch 151: saving model to model/keypoint_classifier\\keypoint_classifier.hdf5\n",
            "31/31 [==============================] - 0s 6ms/step - loss: 0.0316 - accuracy: 0.9898 - val_loss: 0.0142 - val_accuracy: 0.9949\n",
            "Epoch 152/1000\n",
            "20/31 [==================>...........] - ETA: 0s - loss: 0.0362 - accuracy: 0.9863\n",
            "Epoch 152: saving model to model/keypoint_classifier\\keypoint_classifier.hdf5\n",
            "31/31 [==============================] - 0s 6ms/step - loss: 0.0362 - accuracy: 0.9860 - val_loss: 0.0125 - val_accuracy: 0.9980\n",
            "Epoch 153/1000\n",
            "20/31 [==================>...........] - ETA: 0s - loss: 0.0398 - accuracy: 0.9879\n",
            "Epoch 153: saving model to model/keypoint_classifier\\keypoint_classifier.hdf5\n",
            "31/31 [==============================] - 0s 6ms/step - loss: 0.0370 - accuracy: 0.9883 - val_loss: 0.0116 - val_accuracy: 0.9969\n",
            "Epoch 154/1000\n",
            "20/31 [==================>...........] - ETA: 0s - loss: 0.0291 - accuracy: 0.9883\n",
            "Epoch 154: saving model to model/keypoint_classifier\\keypoint_classifier.hdf5\n",
            "31/31 [==============================] - 0s 6ms/step - loss: 0.0294 - accuracy: 0.9898 - val_loss: 0.0151 - val_accuracy: 0.9980\n",
            "Epoch 155/1000\n",
            "21/31 [===================>..........] - ETA: 0s - loss: 0.0312 - accuracy: 0.9911\n",
            "Epoch 155: saving model to model/keypoint_classifier\\keypoint_classifier.hdf5\n",
            "31/31 [==============================] - 0s 6ms/step - loss: 0.0353 - accuracy: 0.9885 - val_loss: 0.0126 - val_accuracy: 0.9959\n",
            "Epoch 156/1000\n",
            "22/31 [====================>.........] - ETA: 0s - loss: 0.0322 - accuracy: 0.9893\n",
            "Epoch 156: saving model to model/keypoint_classifier\\keypoint_classifier.hdf5\n",
            "31/31 [==============================] - 0s 5ms/step - loss: 0.0299 - accuracy: 0.9903 - val_loss: 0.0124 - val_accuracy: 0.9969\n",
            "Epoch 157/1000\n",
            "22/31 [====================>.........] - ETA: 0s - loss: 0.0348 - accuracy: 0.9865\n",
            "Epoch 157: saving model to model/keypoint_classifier\\keypoint_classifier.hdf5\n",
            "31/31 [==============================] - 0s 6ms/step - loss: 0.0328 - accuracy: 0.9878 - val_loss: 0.0164 - val_accuracy: 0.9929\n",
            "Epoch 158/1000\n",
            "22/31 [====================>.........] - ETA: 0s - loss: 0.0265 - accuracy: 0.9897\n",
            "Epoch 158: saving model to model/keypoint_classifier\\keypoint_classifier.hdf5\n",
            "31/31 [==============================] - 0s 6ms/step - loss: 0.0266 - accuracy: 0.9903 - val_loss: 0.0145 - val_accuracy: 0.9980\n",
            "Epoch 159/1000\n",
            "21/31 [===================>..........] - ETA: 0s - loss: 0.0309 - accuracy: 0.9907\n",
            "Epoch 159: saving model to model/keypoint_classifier\\keypoint_classifier.hdf5\n",
            "31/31 [==============================] - 0s 6ms/step - loss: 0.0344 - accuracy: 0.9893 - val_loss: 0.0121 - val_accuracy: 0.9959\n",
            "Epoch 160/1000\n",
            "21/31 [===================>..........] - ETA: 0s - loss: 0.0310 - accuracy: 0.9896\n",
            "Epoch 160: saving model to model/keypoint_classifier\\keypoint_classifier.hdf5\n",
            "31/31 [==============================] - 0s 6ms/step - loss: 0.0299 - accuracy: 0.9900 - val_loss: 0.0111 - val_accuracy: 0.9969\n",
            "Epoch 161/1000\n",
            "21/31 [===================>..........] - ETA: 0s - loss: 0.0298 - accuracy: 0.9892\n",
            "Epoch 161: saving model to model/keypoint_classifier\\keypoint_classifier.hdf5\n",
            "31/31 [==============================] - 0s 6ms/step - loss: 0.0333 - accuracy: 0.9890 - val_loss: 0.0148 - val_accuracy: 0.9949\n",
            "Epoch 162/1000\n",
            "22/31 [====================>.........] - ETA: 0s - loss: 0.0338 - accuracy: 0.9879\n",
            "Epoch 162: saving model to model/keypoint_classifier\\keypoint_classifier.hdf5\n",
            "31/31 [==============================] - 0s 6ms/step - loss: 0.0364 - accuracy: 0.9872 - val_loss: 0.0120 - val_accuracy: 0.9980\n",
            "Epoch 163/1000\n",
            "22/31 [====================>.........] - ETA: 0s - loss: 0.0256 - accuracy: 0.9908\n",
            "Epoch 163: saving model to model/keypoint_classifier\\keypoint_classifier.hdf5\n",
            "31/31 [==============================] - 0s 6ms/step - loss: 0.0285 - accuracy: 0.9903 - val_loss: 0.0128 - val_accuracy: 0.9990\n",
            "Epoch 164/1000\n",
            "22/31 [====================>.........] - ETA: 0s - loss: 0.0339 - accuracy: 0.9908\n",
            "Epoch 164: saving model to model/keypoint_classifier\\keypoint_classifier.hdf5\n",
            "31/31 [==============================] - 0s 5ms/step - loss: 0.0369 - accuracy: 0.9895 - val_loss: 0.0138 - val_accuracy: 0.9949\n",
            "Epoch 165/1000\n",
            "20/31 [==================>...........] - ETA: 0s - loss: 0.0237 - accuracy: 0.9910\n",
            "Epoch 165: saving model to model/keypoint_classifier\\keypoint_classifier.hdf5\n",
            "31/31 [==============================] - 0s 6ms/step - loss: 0.0279 - accuracy: 0.9908 - val_loss: 0.0135 - val_accuracy: 0.9959\n",
            "Epoch 166/1000\n",
            "21/31 [===================>..........] - ETA: 0s - loss: 0.0255 - accuracy: 0.9907\n",
            "Epoch 166: saving model to model/keypoint_classifier\\keypoint_classifier.hdf5\n",
            "31/31 [==============================] - 0s 5ms/step - loss: 0.0256 - accuracy: 0.9908 - val_loss: 0.0147 - val_accuracy: 0.9949\n",
            "Epoch 167/1000\n",
            "22/31 [====================>.........] - ETA: 0s - loss: 0.0334 - accuracy: 0.9858\n",
            "Epoch 167: saving model to model/keypoint_classifier\\keypoint_classifier.hdf5\n",
            "31/31 [==============================] - 0s 5ms/step - loss: 0.0297 - accuracy: 0.9878 - val_loss: 0.0109 - val_accuracy: 0.9980\n",
            "Epoch 168/1000\n",
            "21/31 [===================>..........] - ETA: 0s - loss: 0.0314 - accuracy: 0.9888\n",
            "Epoch 168: saving model to model/keypoint_classifier\\keypoint_classifier.hdf5\n",
            "31/31 [==============================] - 0s 6ms/step - loss: 0.0303 - accuracy: 0.9895 - val_loss: 0.0118 - val_accuracy: 0.9969\n",
            "Epoch 169/1000\n",
            "20/31 [==================>...........] - ETA: 0s - loss: 0.0359 - accuracy: 0.9859\n",
            "Epoch 169: saving model to model/keypoint_classifier\\keypoint_classifier.hdf5\n",
            "31/31 [==============================] - 0s 6ms/step - loss: 0.0344 - accuracy: 0.9867 - val_loss: 0.0121 - val_accuracy: 0.9990\n",
            "Epoch 170/1000\n",
            "23/31 [=====================>........] - ETA: 0s - loss: 0.0258 - accuracy: 0.9912\n",
            "Epoch 170: saving model to model/keypoint_classifier\\keypoint_classifier.hdf5\n",
            "31/31 [==============================] - 0s 6ms/step - loss: 0.0292 - accuracy: 0.9895 - val_loss: 0.0110 - val_accuracy: 0.9969\n",
            "Epoch 171/1000\n",
            "21/31 [===================>..........] - ETA: 0s - loss: 0.0305 - accuracy: 0.9892\n",
            "Epoch 171: saving model to model/keypoint_classifier\\keypoint_classifier.hdf5\n",
            "31/31 [==============================] - 0s 6ms/step - loss: 0.0290 - accuracy: 0.9893 - val_loss: 0.0148 - val_accuracy: 0.9949\n",
            "Epoch 172/1000\n",
            "20/31 [==================>...........] - ETA: 0s - loss: 0.0295 - accuracy: 0.9895\n",
            "Epoch 172: saving model to model/keypoint_classifier\\keypoint_classifier.hdf5\n",
            "31/31 [==============================] - 0s 6ms/step - loss: 0.0305 - accuracy: 0.9890 - val_loss: 0.0108 - val_accuracy: 0.9969\n",
            "Epoch 173/1000\n",
            "20/31 [==================>...........] - ETA: 0s - loss: 0.0281 - accuracy: 0.9902\n",
            "Epoch 173: saving model to model/keypoint_classifier\\keypoint_classifier.hdf5\n",
            "31/31 [==============================] - 0s 6ms/step - loss: 0.0264 - accuracy: 0.9908 - val_loss: 0.0149 - val_accuracy: 0.9939\n",
            "Epoch 174/1000\n",
            "21/31 [===================>..........] - ETA: 0s - loss: 0.0324 - accuracy: 0.9881\n",
            "Epoch 174: saving model to model/keypoint_classifier\\keypoint_classifier.hdf5\n",
            "31/31 [==============================] - 0s 6ms/step - loss: 0.0315 - accuracy: 0.9880 - val_loss: 0.0116 - val_accuracy: 0.9959\n",
            "Epoch 175/1000\n",
            "22/31 [====================>.........] - ETA: 0s - loss: 0.0279 - accuracy: 0.9897\n",
            "Epoch 175: saving model to model/keypoint_classifier\\keypoint_classifier.hdf5\n",
            "31/31 [==============================] - 0s 6ms/step - loss: 0.0277 - accuracy: 0.9900 - val_loss: 0.0096 - val_accuracy: 0.9969\n",
            "Epoch 176/1000\n",
            "31/31 [==============================] - ETA: 0s - loss: 0.0291 - accuracy: 0.9895\n",
            "Epoch 176: saving model to model/keypoint_classifier\\keypoint_classifier.hdf5\n",
            "31/31 [==============================] - 0s 8ms/step - loss: 0.0291 - accuracy: 0.9895 - val_loss: 0.0122 - val_accuracy: 0.9959\n",
            "Epoch 177/1000\n",
            "20/31 [==================>...........] - ETA: 0s - loss: 0.0285 - accuracy: 0.9871\n",
            "Epoch 177: saving model to model/keypoint_classifier\\keypoint_classifier.hdf5\n",
            "31/31 [==============================] - 0s 6ms/step - loss: 0.0313 - accuracy: 0.9870 - val_loss: 0.0105 - val_accuracy: 0.9969\n",
            "Epoch 178/1000\n",
            "21/31 [===================>..........] - ETA: 0s - loss: 0.0319 - accuracy: 0.9874\n",
            "Epoch 178: saving model to model/keypoint_classifier\\keypoint_classifier.hdf5\n",
            "31/31 [==============================] - 0s 6ms/step - loss: 0.0304 - accuracy: 0.9885 - val_loss: 0.0106 - val_accuracy: 0.9959\n",
            "Epoch 179/1000\n",
            "20/31 [==================>...........] - ETA: 0s - loss: 0.0293 - accuracy: 0.9875\n",
            "Epoch 179: saving model to model/keypoint_classifier\\keypoint_classifier.hdf5\n",
            "31/31 [==============================] - 0s 6ms/step - loss: 0.0285 - accuracy: 0.9880 - val_loss: 0.0161 - val_accuracy: 0.9939\n",
            "Epoch 180/1000\n",
            "21/31 [===================>..........] - ETA: 0s - loss: 0.0340 - accuracy: 0.9874\n",
            "Epoch 180: saving model to model/keypoint_classifier\\keypoint_classifier.hdf5\n",
            "31/31 [==============================] - 0s 6ms/step - loss: 0.0316 - accuracy: 0.9895 - val_loss: 0.0154 - val_accuracy: 0.9969\n",
            "Epoch 181/1000\n",
            "19/31 [=================>............] - ETA: 0s - loss: 0.0241 - accuracy: 0.9901\n",
            "Epoch 181: saving model to model/keypoint_classifier\\keypoint_classifier.hdf5\n",
            "31/31 [==============================] - 0s 9ms/step - loss: 0.0251 - accuracy: 0.9906 - val_loss: 0.0116 - val_accuracy: 0.9949\n",
            "Epoch 182/1000\n",
            "20/31 [==================>...........] - ETA: 0s - loss: 0.0260 - accuracy: 0.9910\n",
            "Epoch 182: saving model to model/keypoint_classifier\\keypoint_classifier.hdf5\n",
            "31/31 [==============================] - 0s 6ms/step - loss: 0.0240 - accuracy: 0.9921 - val_loss: 0.0106 - val_accuracy: 0.9969\n",
            "Epoch 183/1000\n",
            "21/31 [===================>..........] - ETA: 0s - loss: 0.0359 - accuracy: 0.9851\n",
            "Epoch 183: saving model to model/keypoint_classifier\\keypoint_classifier.hdf5\n",
            "31/31 [==============================] - 0s 6ms/step - loss: 0.0320 - accuracy: 0.9883 - val_loss: 0.0105 - val_accuracy: 0.9969\n",
            "Epoch 184/1000\n",
            "20/31 [==================>...........] - ETA: 0s - loss: 0.0324 - accuracy: 0.9891\n",
            "Epoch 184: saving model to model/keypoint_classifier\\keypoint_classifier.hdf5\n",
            "31/31 [==============================] - 0s 6ms/step - loss: 0.0312 - accuracy: 0.9898 - val_loss: 0.0141 - val_accuracy: 0.9990\n",
            "Epoch 185/1000\n",
            "21/31 [===================>..........] - ETA: 0s - loss: 0.0290 - accuracy: 0.9881\n",
            "Epoch 185: saving model to model/keypoint_classifier\\keypoint_classifier.hdf5\n",
            "31/31 [==============================] - 0s 6ms/step - loss: 0.0314 - accuracy: 0.9880 - val_loss: 0.0164 - val_accuracy: 0.9918\n",
            "Epoch 186/1000\n",
            "21/31 [===================>..........] - ETA: 0s - loss: 0.0292 - accuracy: 0.9903\n",
            "Epoch 186: saving model to model/keypoint_classifier\\keypoint_classifier.hdf5\n",
            "31/31 [==============================] - 0s 6ms/step - loss: 0.0278 - accuracy: 0.9911 - val_loss: 0.0123 - val_accuracy: 0.9949\n",
            "Epoch 187/1000\n",
            "21/31 [===================>..........] - ETA: 0s - loss: 0.0309 - accuracy: 0.9892\n",
            "Epoch 187: saving model to model/keypoint_classifier\\keypoint_classifier.hdf5\n",
            "31/31 [==============================] - 0s 6ms/step - loss: 0.0284 - accuracy: 0.9906 - val_loss: 0.0113 - val_accuracy: 0.9959\n",
            "Epoch 188/1000\n",
            "22/31 [====================>.........] - ETA: 0s - loss: 0.0316 - accuracy: 0.9883\n",
            "Epoch 188: saving model to model/keypoint_classifier\\keypoint_classifier.hdf5\n",
            "31/31 [==============================] - 0s 6ms/step - loss: 0.0299 - accuracy: 0.9895 - val_loss: 0.0154 - val_accuracy: 0.9929\n",
            "Epoch 189/1000\n",
            "21/31 [===================>..........] - ETA: 0s - loss: 0.0297 - accuracy: 0.9892\n",
            "Epoch 189: saving model to model/keypoint_classifier\\keypoint_classifier.hdf5\n",
            "31/31 [==============================] - 0s 6ms/step - loss: 0.0286 - accuracy: 0.9903 - val_loss: 0.0145 - val_accuracy: 0.9918\n",
            "Epoch 190/1000\n",
            "21/31 [===================>..........] - ETA: 0s - loss: 0.0324 - accuracy: 0.9885\n",
            "Epoch 190: saving model to model/keypoint_classifier\\keypoint_classifier.hdf5\n",
            "31/31 [==============================] - 0s 6ms/step - loss: 0.0357 - accuracy: 0.9865 - val_loss: 0.0108 - val_accuracy: 0.9990\n",
            "Epoch 191/1000\n",
            "21/31 [===================>..........] - ETA: 0s - loss: 0.0293 - accuracy: 0.9896\n",
            "Epoch 191: saving model to model/keypoint_classifier\\keypoint_classifier.hdf5\n",
            "31/31 [==============================] - 0s 6ms/step - loss: 0.0295 - accuracy: 0.9898 - val_loss: 0.0120 - val_accuracy: 0.9949\n",
            "Epoch 192/1000\n",
            "18/31 [================>.............] - ETA: 0s - loss: 0.0222 - accuracy: 0.9931\n",
            "Epoch 192: saving model to model/keypoint_classifier\\keypoint_classifier.hdf5\n",
            "31/31 [==============================] - 0s 6ms/step - loss: 0.0244 - accuracy: 0.9921 - val_loss: 0.0149 - val_accuracy: 0.9969\n",
            "Epoch 193/1000\n",
            "22/31 [====================>.........] - ETA: 0s - loss: 0.0283 - accuracy: 0.9897\n",
            "Epoch 193: saving model to model/keypoint_classifier\\keypoint_classifier.hdf5\n",
            "31/31 [==============================] - 0s 6ms/step - loss: 0.0305 - accuracy: 0.9898 - val_loss: 0.0097 - val_accuracy: 0.9969\n",
            "Epoch 194/1000\n",
            "21/31 [===================>..........] - ETA: 0s - loss: 0.0362 - accuracy: 0.9888\n",
            "Epoch 194: saving model to model/keypoint_classifier\\keypoint_classifier.hdf5\n",
            "31/31 [==============================] - 0s 6ms/step - loss: 0.0317 - accuracy: 0.9900 - val_loss: 0.0104 - val_accuracy: 0.9990\n",
            "Epoch 195/1000\n",
            "21/31 [===================>..........] - ETA: 0s - loss: 0.0270 - accuracy: 0.9896\n",
            "Epoch 195: saving model to model/keypoint_classifier\\keypoint_classifier.hdf5\n",
            "31/31 [==============================] - 0s 6ms/step - loss: 0.0281 - accuracy: 0.9895 - val_loss: 0.0101 - val_accuracy: 0.9990\n",
            "Epoch 195: early stopping\n"
          ]
        },
        {
          "data": {
            "text/plain": [
              "<keras.callbacks.History at 0x1feb48aa8c0>"
            ]
          },
          "execution_count": 33,
          "metadata": {},
          "output_type": "execute_result"
        }
      ],
      "source": [
        "model.fit(\n",
        "    X_train,\n",
        "    y_train,\n",
        "    epochs=1000,\n",
        "    batch_size=128,\n",
        "    validation_data=(X_test, y_test),\n",
        "    callbacks=[cp_callback, es_callback]\n",
        ")"
      ]
    },
    {
      "cell_type": "code",
      "execution_count": 34,
      "metadata": {
        "colab": {
          "base_uri": "https://localhost:8080/"
        },
        "id": "pxvb2Y299hE3",
        "outputId": "59eb3185-2e37-4b9e-bc9d-ab1b8ac29b7f"
      },
      "outputs": [
        {
          "name": "stdout",
          "output_type": "stream",
          "text": [
            "8/8 [==============================] - 0s 2ms/step - loss: 0.0101 - accuracy: 0.9990\n"
          ]
        }
      ],
      "source": [
        "# Model evaluation\n",
        "val_loss, val_acc = model.evaluate(X_test, y_test, batch_size=128)"
      ]
    },
    {
      "cell_type": "code",
      "execution_count": 35,
      "metadata": {
        "id": "RBkmDeUW9hE4"
      },
      "outputs": [],
      "source": [
        "# Loading the saved model\n",
        "model = tf.keras.models.load_model(model_save_path)"
      ]
    },
    {
      "cell_type": "code",
      "execution_count": 36,
      "metadata": {
        "colab": {
          "base_uri": "https://localhost:8080/"
        },
        "id": "tFz9Tb0I9hE4",
        "outputId": "1c3b3528-54ae-4ee2-ab04-77429211cbef"
      },
      "outputs": [
        {
          "name": "stdout",
          "output_type": "stream",
          "text": [
            "1/1 [==============================] - 0s 86ms/step\n",
            "[0.00152567 0.9984743 ]\n",
            "1\n"
          ]
        }
      ],
      "source": [
        "# Inference test\n",
        "predict_result = model.predict(np.array([X_test[0]]))\n",
        "print(np.squeeze(predict_result))\n",
        "print(np.argmax(np.squeeze(predict_result)))"
      ]
    },
    {
      "cell_type": "markdown",
      "metadata": {
        "id": "S3U4yNWx9hE4"
      },
      "source": [
        "# Confusion matrix"
      ]
    },
    {
      "cell_type": "code",
      "execution_count": 37,
      "metadata": {
        "colab": {
          "base_uri": "https://localhost:8080/",
          "height": 582
        },
        "id": "AP1V6SCk9hE5",
        "outputId": "08e41a80-7a4a-4619-8125-ecc371368d19"
      },
      "outputs": [
        {
          "name": "stdout",
          "output_type": "stream",
          "text": [
            "31/31 [==============================] - 0s 3ms/step\n"
          ]
        },
        {
          "data": {
            "image/png": "[encoded data removed]",
            "text/plain": [
              "<Figure size 504x432 with 2 Axes>"
            ]
          },
          "metadata": {
            "needs_background": "light"
          },
          "output_type": "display_data"
        },
        {
          "name": "stdout",
          "output_type": "stream",
          "text": [
            "Classification Report\n",
            "              precision    recall  f1-score   support\n",
            "\n",
            "           0       1.00      1.00      1.00       462\n",
            "           1       1.00      1.00      1.00       518\n",
            "\n",
            "    accuracy                           1.00       980\n",
            "   macro avg       1.00      1.00      1.00       980\n",
            "weighted avg       1.00      1.00      1.00       980\n",
            "\n"
          ]
        }
      ],
      "source": [
        "import pandas as pd\n",
        "import seaborn as sns\n",
        "import matplotlib.pyplot as plt\n",
        "from sklearn.metrics import confusion_matrix, classification_report\n",
        "\n",
        "def print_confusion_matrix(y_true, y_pred, report=True):\n",
        "    labels = sorted(list(set(y_true)))\n",
        "    cmx_data = confusion_matrix(y_true, y_pred, labels=labels)\n",
        "    \n",
        "    df_cmx = pd.DataFrame(cmx_data, index=labels, columns=labels)\n",
        " \n",
        "    fig, ax = plt.subplots(figsize=(7, 6))\n",
        "    sns.heatmap(df_cmx, annot=True, fmt='g' ,square=False)\n",
        "    ax.set_ylim(len(set(y_true)), 0)\n",
        "    plt.show()\n",
        "    \n",
        "    if report:\n",
        "        print('Classification Report')\n",
        "        print(classification_report(y_test, y_pred))\n",
        "\n",
        "Y_pred = model.predict(X_test)\n",
        "y_pred = np.argmax(Y_pred, axis=1)\n",
        "\n",
        "print_confusion_matrix(y_test, y_pred)"
      ]
    },
    {
      "cell_type": "markdown",
      "metadata": {
        "id": "FNP6aqzc9hE5"
      },
      "source": [
        "# Convert to model for Tensorflow-Lite"
      ]
    },
    {
      "cell_type": "code",
      "execution_count": 38,
      "metadata": {
        "id": "ODjnYyld9hE6"
      },
      "outputs": [],
      "source": [
        "# Save as a model dedicated to inference\n",
        "model.save(model_save_path, include_optimizer=False)"
      ]
    },
    {
      "cell_type": "code",
      "execution_count": 39,
      "metadata": {
        "colab": {
          "base_uri": "https://localhost:8080/"
        },
        "id": "zRfuK8Y59hE6",
        "outputId": "a4ca585c-b5d5-4244-8291-8674063209bb"
      },
      "outputs": [
        {
          "name": "stdout",
          "output_type": "stream",
          "text": [
            "INFO:tensorflow:Assets written to: C:\\Users\\CC\\AppData\\Local\\Temp\\tmp8f35d6my\\assets\n"
          ]
        },
        {
          "name": "stderr",
          "output_type": "stream",
          "text": [
            "INFO:tensorflow:Assets written to: C:\\Users\\CC\\AppData\\Local\\Temp\\tmp8f35d6my\\assets\n"
          ]
        },
        {
          "data": {
            "text/plain": [
              "5136"
            ]
          },
          "execution_count": 39,
          "metadata": {},
          "output_type": "execute_result"
        }
      ],
      "source": [
        "# Transform model (quantization)\n",
        "\n",
        "converter = tf.lite.TFLiteConverter.from_keras_model(model)\n",
        "converter.optimizations = [tf.lite.Optimize.DEFAULT]\n",
        "tflite_quantized_model = converter.convert()\n",
        "\n",
        "open(tflite_save_path, 'wb').write(tflite_quantized_model)"
      ]
    },
    {
      "cell_type": "markdown",
      "metadata": {
        "id": "CHBPBXdx9hE6"
      },
      "source": [
        "# Inference test"
      ]
    },
    {
      "cell_type": "code",
      "execution_count": 40,
      "metadata": {
        "id": "mGAzLocO9hE7"
      },
      "outputs": [],
      "source": [
        "interpreter = tf.lite.Interpreter(model_path=tflite_save_path)\n",
        "interpreter.allocate_tensors()"
      ]
    },
    {
      "cell_type": "code",
      "execution_count": 41,
      "metadata": {
        "id": "oQuDK8YS9hE7"
      },
      "outputs": [],
      "source": [
        "# Get I / O tensor\n",
        "input_details = interpreter.get_input_details()\n",
        "output_details = interpreter.get_output_details()"
      ]
    },
    {
      "cell_type": "code",
      "execution_count": 42,
      "metadata": {
        "id": "2_ixAf_l9hE7"
      },
      "outputs": [],
      "source": [
        "interpreter.set_tensor(input_details[0]['index'], np.array([X_test[0]]))"
      ]
    },
    {
      "cell_type": "markdown",
      "metadata": {},
      "source": []
    },
    {
      "cell_type": "code",
      "execution_count": 43,
      "metadata": {
        "colab": {
          "base_uri": "https://localhost:8080/"
        },
        "id": "s4FoAnuc9hE7",
        "outputId": "91f18257-8d8b-4ef3-c558-e9b5f94fabbf",
        "scrolled": true
      },
      "outputs": [
        {
          "name": "stdout",
          "output_type": "stream",
          "text": [
            "CPU times: total: 0 ns\n",
            "Wall time: 0 ns\n"
          ]
        }
      ],
      "source": [
        "%%time\n",
        "# Inference implementation\n",
        "interpreter.invoke()\n",
        "tflite_results = interpreter.get_tensor(output_details[0]['index'])"
      ]
    },
    {
      "cell_type": "code",
      "execution_count": 44,
      "metadata": {
        "colab": {
          "base_uri": "https://localhost:8080/"
        },
        "id": "vONjp19J9hE8",
        "outputId": "77205e24-fd00-42c4-f7b6-e06e527c2cba"
      },
      "outputs": [
        {
          "name": "stdout",
          "output_type": "stream",
          "text": [
            "[0.00293324 0.9970668 ]\n",
            "1\n"
          ]
        }
      ],
      "source": [
        "print(np.squeeze(tflite_results))\n",
        "print(np.argmax(np.squeeze(tflite_results)))"
      ]
    },
    {
      "cell_type": "code",
      "execution_count": null,
      "metadata": {},
      "outputs": [],
      "source": []
    }
  ],
  "metadata": {
    "accelerator": "GPU",
    "colab": {
      "collapsed_sections": [],
      "name": "keypoint_classification_EN.ipynb",
      "provenance": [],
      "toc_visible": true
    },
    "kernelspec": {
      "display_name": "Python 3.10.5 64-bit",
      "language": "python",
      "name": "python3"
    },
    "language_info": {
      "codemirror_mode": {
        "name": "ipython",
        "version": 3
      },
      "file_extension": ".py",
      "mimetype": "text/x-python",
      "name": "python",
      "nbconvert_exporter": "python",
      "pygments_lexer": "ipython3",
      "version": "3.10.5"
    },
    "vscode": {
      "interpreter": {
        "hash": "f4a60fddce04675db2b44628418a28ed56955d031f89378bd541af5e032e650d"
      }
    }
  },
  "nbformat": 4,
  "nbformat_minor": 0
}
